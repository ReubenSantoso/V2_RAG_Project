{
 "cells": [
  {
   "cell_type": "markdown",
   "metadata": {},
   "source": [
    "Run the requirements.txt file to download dependencies needed"
   ]
  },
  {
   "cell_type": "markdown",
   "metadata": {},
   "source": [
    "# Run this cell if you want to use Ollama engine:"
   ]
  },
  {
   "cell_type": "code",
   "execution_count": 2,
   "metadata": {},
   "outputs": [],
   "source": [
    "# RUN THIS CELL IF YOU WANT TO USE OLLAMA ENGINE\n",
    "from llama_index.llms.ollama import Ollama\n",
    "from llama_index.core.indices.struct_store import JSONQueryEngine\n",
    "\n",
    "# llm = Ollama(model=\"llama3\", request_timeout=120.0)\n",
    "\n",
    "# Test setup\n",
    "# resp = llm.complete(\"What is Mcdonalds?\")\n",
    "# print(resp)"
   ]
  },
  {
   "cell_type": "markdown",
   "metadata": {},
   "source": [
    "# Begin vector embedding of scrapped data"
   ]
  },
  {
   "cell_type": "code",
   "execution_count": 1,
   "metadata": {},
   "outputs": [],
   "source": [
    "import json\n",
    "\n",
    "# Function to read JSON data from a file\n",
    "def read_json_file(filepath):\n",
    "    with open(filepath, 'r', encoding='utf-8') as file:\n",
    "        return json.load(file)"
   ]
  },
  {
   "cell_type": "code",
   "execution_count": 2,
   "metadata": {},
   "outputs": [],
   "source": [
    "# Paths to the JSON files\n",
    "list_of_json_files = [\n",
    "    \"cp_data/tenant_desc.json\",\n",
    "    \"cp_data/tenant_schema.json\",\n",
    "    \"cp_data/about_us.json\",\n",
    "    \"cp_data/news.json\",\n",
    "    \"cp_data/facilities_desc.json\",\n",
    "    \"cp_data/whats_hot.json\",\n",
    "]"
   ]
  },
  {
   "cell_type": "code",
   "execution_count": 3,
   "metadata": {},
   "outputs": [
    {
     "name": "stdout",
     "output_type": "stream",
     "text": [
      "Document ID: b541f911-772d-4acf-828f-d728f08e890a\n",
      "Document ID: 6b45cf56-4eee-4197-8c5c-f70fd5bc7b2c\n",
      "Document ID: f59a8a5d-eff1-4582-9fac-d38e7ba820a3\n",
      "Document ID: 07a3c015-05f6-47de-8e16-329e36d3e1da\n",
      "Document ID: cd37c002-ee02-4b60-b966-55db04d20fc8\n",
      "Document ID: 09c433cd-bc4e-4bb5-8a78-d4aab71e0659\n"
     ]
    }
   ],
   "source": [
    "from llama_index.readers.json import JSONReader\n",
    "\n",
    "reader = JSONReader()\n",
    "\n",
    "# Load data from multiple files\n",
    "documents = []\n",
    "for file_path in list_of_json_files:\n",
    "    documents.extend(reader.load_data(file_path))\n",
    "\n",
    "for doc in documents:\n",
    "    print(\"Document ID:\", doc.doc_id)"
   ]
  },
  {
   "cell_type": "code",
   "execution_count": 4,
   "metadata": {},
   "outputs": [
    {
     "name": "stderr",
     "output_type": "stream",
     "text": [
      "/opt/miniconda3/envs/v2_env/lib/python3.12/site-packages/tqdm/auto.py:21: TqdmWarning: IProgress not found. Please update jupyter and ipywidgets. See https://ipywidgets.readthedocs.io/en/stable/user_install.html\n",
      "  from .autonotebook import tqdm as notebook_tqdm\n",
      "Parsing nodes: 100%|██████████| 6/6 [00:03<00:00,  1.99it/s]\n",
      "Generating embeddings: 100%|██████████| 58/58 [00:04<00:00, 13.18it/s]\n"
     ]
    }
   ],
   "source": [
    "# Create an index over the documents\n",
    "from llama_index.core import VectorStoreIndex, StorageContext\n",
    "from llama_index.vector_stores.milvus import MilvusVectorStore\n",
    "import os\n",
    "from dotenv import load_dotenv\n",
    "import os\n",
    "\n",
    "load_dotenv()  # Load environment variables from .env file\n",
    "\n",
    "api_key = os.getenv(\"OPENAI_API_KEY\")\n",
    "\n",
    "# Setup MilvusVectorStore\n",
    "vector_store = MilvusVectorStore(\n",
    "    dim=1536,\n",
    "    collection_name=\"cp_tenant_vector\",\n",
    "    uri=\"./milvus_demo.db\",\n",
    "    token=\"root:Milvus\",\n",
    "    overwrite=True\n",
    ")\n",
    "\n",
    "# Create a storage context with the Milvus vector store\n",
    "storage_context = StorageContext.from_defaults(vector_store=vector_store)\n",
    "\n",
    "# Create the index from your documents\n",
    "index = VectorStoreIndex.from_documents(documents, storage_context=storage_context, show_progress=True)"
   ]
  },
  {
   "cell_type": "markdown",
   "metadata": {},
   "source": [
    "# Uncomment this cell to test project setup "
   ]
  },
  {
   "cell_type": "code",
   "execution_count": 5,
   "metadata": {},
   "outputs": [
    {
     "name": "stdout",
     "output_type": "stream",
     "text": [
      "CHATERAISE is in the \"Gourmet Delights\" category and its location is on LG 119 – LG 120.\n",
      "Bennit Design Group - USA\n"
     ]
    }
   ],
   "source": [
    "# Uncomment to Run Test:\n",
    "\n",
    "# query_engine = index.as_query_engine(llm=llm) #uncomment to use ollama llm\n",
    "query_engine = index.as_query_engine()\n",
    "\n",
    "res1 = query_engine.query(\"What is CHATERAISE category and where is its location\")\n",
    "res2 = query_engine.query(\"Who is the US landscape consultant for central park mall\")\n",
    "print(res1)\n",
    "print(res2)"
   ]
  },
  {
   "cell_type": "markdown",
   "metadata": {},
   "source": [
    "# Run this cell for FAST API deployment and running RAG with RESTFUL env:"
   ]
  },
  {
   "cell_type": "markdown",
   "metadata": {},
   "source": [
    "This call only if you choose to run Fast API with ngrok or you can deploy locally\n",
    "\n",
    "!ngrok authtoken \"YOUR API KEY HERE\""
   ]
  },
  {
   "cell_type": "code",
   "execution_count": 6,
   "metadata": {},
   "outputs": [
    {
     "name": "stderr",
     "output_type": "stream",
     "text": [
      "INFO:     Started server process [67973]\n",
      "INFO:     Waiting for application startup.\n",
      "INFO:     Application startup complete.\n",
      "INFO:     Uvicorn running on http://0.0.0.0:8000 (Press CTRL+C to quit)\n"
     ]
    },
    {
     "name": "stdout",
     "output_type": "stream",
     "text": [
      "INFO:     127.0.0.1:53546 - \"GET /docs HTTP/1.1\" 200 OK\n",
      "INFO:     127.0.0.1:53546 - \"GET /openapi.json HTTP/1.1\" 200 OK\n",
      "INFO:     127.0.0.1:53549 - \"POST /query HTTP/1.1\" 200 OK\n",
      "INFO:     127.0.0.1:53783 - \"GET /docs HTTP/1.1\" 200 OK\n",
      "INFO:     127.0.0.1:53783 - \"GET /openapi.json HTTP/1.1\" 200 OK\n",
      "INFO:     127.0.0.1:53783 - \"GET /docs HTTP/1.1\" 200 OK\n",
      "INFO:     127.0.0.1:53783 - \"GET /openapi.json HTTP/1.1\" 200 OK\n",
      "INFO:     127.0.0.1:53783 - \"GET /docs HTTP/1.1\" 200 OK\n",
      "INFO:     127.0.0.1:53783 - \"GET /openapi.json HTTP/1.1\" 200 OK\n"
     ]
    }
   ],
   "source": [
    "from fastapi import FastAPI, HTTPException\n",
    "from pydantic import BaseModel\n",
    "import threading \n",
    "import uvicorn\n",
    "import logging\n",
    "\n",
    "class QueryResponse(BaseModel):\n",
    "    response: str\n",
    "\n",
    "class QueryRequest(BaseModel):\n",
    "    query: str\n",
    "\n",
    "# Initialize the FastAPI app\n",
    "app = FastAPI()\n",
    "\n",
    "llama_index = query_engine\n",
    "\n",
    "@app.post(\"/query\", response_model=QueryResponse)\n",
    "async def query_llama_index(request: QueryRequest):\n",
    "    try:\n",
    "        # Logging the received request\n",
    "        logging.info(f\"Received query: {request.query}\")\n",
    "\n",
    "        # Extract the 'query' value from the request body\n",
    "        query = request.query\n",
    "        result = llama_index.query(query)\n",
    "        if isinstance(result, str):\n",
    "            return QueryResponse(response=result)\n",
    "        else:\n",
    "            return QueryResponse(response=result.response)\n",
    "    except Exception as e:\n",
    "        logging.error(f\"Error occurred: {str(e)}\")\n",
    "        raise HTTPException(status_code=500, detail=f\"Internal Server Error: {str(e)}\")\n",
    "\n",
    "\n",
    "# Function to run Uvicorn server\n",
    "def run():\n",
    "    uvicorn.run(app, host=\"0.0.0.0\", port=8000)\n",
    "\n",
    "# Start the server in a background thread\n",
    "server = threading.Thread(target=run)\n",
    "server.start()\n",
    "\n"
   ]
  }
 ],
 "metadata": {
  "kernelspec": {
   "display_name": "Python 3",
   "language": "python",
   "name": "python3"
  },
  "language_info": {
   "codemirror_mode": {
    "name": "ipython",
    "version": 3
   },
   "file_extension": ".py",
   "mimetype": "text/x-python",
   "name": "python",
   "nbconvert_exporter": "python",
   "pygments_lexer": "ipython3",
   "version": "3.12.4"
  }
 },
 "nbformat": 4,
 "nbformat_minor": 2
}
