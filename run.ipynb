{
 "cells": [
  {
   "cell_type": "markdown",
   "metadata": {},
   "source": [
    "Run the requirements.txt file to download dependencies needed"
   ]
  },
  {
   "cell_type": "markdown",
   "metadata": {},
   "source": [
    "# Run this cell if you want to use Ollama engine:"
   ]
  },
  {
   "cell_type": "code",
   "execution_count": null,
   "metadata": {},
   "outputs": [],
   "source": [
    "# RUN THIS CELL IF YOU WANT TO USE OLLAMA ENGINE\n",
    "from llama_index.llms.ollama import Ollama\n",
    "from llama_index.core.indices.struct_store import JSONQueryEngine\n",
    "\n",
    "# llm = Ollama(model=\"llama3\", request_timeout=120.0)\n",
    "\n",
    "# Test setup\n",
    "# resp = llm.complete(\"What is Mcdonalds?\")\n",
    "# print(resp)"
   ]
  },
  {
   "cell_type": "markdown",
   "metadata": {},
   "source": [
    "# Begin vector embedding of scrapped data"
   ]
  },
  {
   "cell_type": "code",
   "execution_count": null,
   "metadata": {},
   "outputs": [],
   "source": [
    "import json\n",
    "\n",
    "# Function to read JSON data from a file\n",
    "def read_json_file(filepath):\n",
    "    with open(filepath, 'r', encoding='utf-8') as file:\n",
    "        return json.load(file)"
   ]
  },
  {
   "cell_type": "code",
   "execution_count": null,
   "metadata": {},
   "outputs": [],
   "source": [
    "# Paths to the JSON files\n",
    "list_of_json_files = [\n",
    "    \"cp_data/tenant_desc.json\",\n",
    "    \"cp_data/tenant_schema.json\",\n",
    "    \"cp_data/about_us.json\",\n",
    "    \"cp_data/news.json\",\n",
    "    \"cp_data/facilities_desc.json\",\n",
    "    \"cp_data/whats_hot.json\",\n",
    "]"
   ]
  },
  {
   "cell_type": "code",
   "execution_count": null,
   "metadata": {},
   "outputs": [],
   "source": [
    "from llama_index.readers.json import JSONReader\n",
    "\n",
    "reader = JSONReader()\n",
    "\n",
    "# Load data from multiple files\n",
    "documents = []\n",
    "for file_path in list_of_json_files:\n",
    "    documents.extend(reader.load_data(file_path))\n",
    "\n",
    "for doc in documents:\n",
    "    print(\"Document ID:\", doc.doc_id)"
   ]
  },
  {
   "cell_type": "code",
   "execution_count": null,
   "metadata": {},
   "outputs": [],
   "source": [
    "# Create an index over the documents\n",
    "from llama_index.core import VectorStoreIndex, StorageContext\n",
    "from llama_index.vector_stores.milvus import MilvusVectorStore\n",
    "import os\n",
    "\n",
    "os.environ[\"OPENAI_API_KEY\"] = \"YOUR API KEY\"\n",
    "\n",
    "# Setup MilvusVectorStore\n",
    "vector_store = MilvusVectorStore(\n",
    "    dim=1536,\n",
    "    collection_name=\"cp_tenant_vector\",\n",
    "    uri=\"./milvus_demo.db\",\n",
    "    token=\"root:Milvus\",\n",
    "    overwrite=True\n",
    ")\n",
    "\n",
    "# Create a storage context with the Milvus vector store\n",
    "storage_context = StorageContext.from_defaults(vector_store=vector_store)\n",
    "\n",
    "# Create the index from your documents\n",
    "index = VectorStoreIndex.from_documents(documents, storage_context=storage_context, show_progress=True)"
   ]
  },
  {
   "cell_type": "markdown",
   "metadata": {},
   "source": [
    "# Uncomment this cell to test project setup "
   ]
  },
  {
   "cell_type": "code",
   "execution_count": null,
   "metadata": {},
   "outputs": [],
   "source": [
    "# Uncomment to Run Test:\n",
    "\n",
    "# query_engine = index.as_query_engine(llm=llm) #uncomment to use ollama llm\n",
    "# query_engine = index.as_query_engine()\n",
    "\n",
    "# res1 = query_engine.query(\"What is CHATERAISE category and where is its location\")\n",
    "# res2 = query_engine.query(\"Who is the US landscape consultant for central park mall\")\n",
    "# print(res1)\n",
    "# print(res2)"
   ]
  },
  {
   "cell_type": "markdown",
   "metadata": {},
   "source": [
    "# Run this cell for FAST API deployment and running RAG with RESTFUL env:"
   ]
  },
  {
   "cell_type": "markdown",
   "metadata": {},
   "source": [
    "This call only if you choose to run Fast API with ngrok or you can deploy locally\n",
    "\n",
    "!ngrok authtoken \"YOUR API KEY HERE\""
   ]
  },
  {
   "cell_type": "code",
   "execution_count": null,
   "metadata": {},
   "outputs": [],
   "source": [
    "from fastapi import FastAPI, HTTPException\n",
    "from pydantic import BaseModel\n",
    "from threading import Thread\n",
    "from pyngrok import ngrok\n",
    "import uvicorn\n",
    "import logging\n",
    "\n",
    "class QueryResponse(BaseModel):\n",
    "    response: str\n",
    "\n",
    "class QueryRequest(BaseModel):\n",
    "    query: str\n",
    "\n",
    "# Initialize the FastAPI app\n",
    "app = FastAPI()\n",
    "\n",
    "llama_index = query_engine\n",
    "\n",
    "@app.post(\"/query\", response_model=QueryResponse)\n",
    "async def query_llama_index(request: QueryRequest):\n",
    "    try:\n",
    "        # Logging the received request\n",
    "        logging.info(f\"Received query: {request.query}\")\n",
    "\n",
    "        # Extract the 'query' value from the request body\n",
    "        query = request.query\n",
    "        result = llama_index.query(query)\n",
    "        if isinstance(result, str):\n",
    "            return QueryResponse(response=result)\n",
    "        else:\n",
    "            return QueryResponse(response=result.response)\n",
    "    except Exception as e:\n",
    "        logging.error(f\"Error occurred: {str(e)}\")\n",
    "        raise HTTPException(status_code=500, detail=f\"Internal Server Error: {str(e)}\")\n",
    "\n",
    "\n",
    "# Function to run Uvicorn server\n",
    "def run():\n",
    "    uvicorn.run(app, host=\"0.0.0.0\", port=8000)\n",
    "\n",
    "# Start the server in a background thread\n",
    "server = Thread(target=run)\n",
    "server.start()\n",
    "\n",
    "# Expose the server to the public internet via ngrok\n",
    "public_url = ngrok.connect(8000)\n",
    "print(f\"Public URL: {public_url}\")\n"
   ]
  },
  {
   "cell_type": "markdown",
   "metadata": {},
   "source": [
    "# Kill the server to FAST API deployment"
   ]
  },
  {
   "cell_type": "code",
   "execution_count": null,
   "metadata": {},
   "outputs": [],
   "source": [
    "ngrok.disconnect(public_url=public_url)\n",
    "ngrok.kill()"
   ]
  }
 ],
 "metadata": {
  "language_info": {
   "name": "python"
  }
 },
 "nbformat": 4,
 "nbformat_minor": 2
}
